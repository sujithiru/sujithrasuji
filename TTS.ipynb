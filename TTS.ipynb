{
  "nbformat": 4,
  "nbformat_minor": 0,
  "metadata": {
    "colab": {
      "provenance": [],
      "authorship_tag": "ABX9TyP4t+M8R5M8wPWzJlhWdUN0",
      "include_colab_link": true
    },
    "kernelspec": {
      "name": "python3",
      "display_name": "Python 3"
    },
    "language_info": {
      "name": "python"
    },
    "widgets": {
      "application/vnd.jupyter.widget-state+json": {
        "ede2e922766e49ffbd4843267be695d5": {
          "model_module": "@jupyter-widgets/controls",
          "model_name": "TextareaModel",
          "model_module_version": "1.5.0",
          "state": {
            "_dom_classes": [],
            "_model_module": "@jupyter-widgets/controls",
            "_model_module_version": "1.5.0",
            "_model_name": "TextareaModel",
            "_view_count": null,
            "_view_module": "@jupyter-widgets/controls",
            "_view_module_version": "1.5.0",
            "_view_name": "TextareaView",
            "continuous_update": true,
            "description": "",
            "description_tooltip": null,
            "disabled": false,
            "layout": "IPY_MODEL_46d5068147b64c9b82413ae0f2faae72",
            "placeholder": "Enter the text you want to convert to speech...",
            "rows": null,
            "style": "IPY_MODEL_1a49a597cb214f4594bde0230add8172",
            "value": "PLAYING CRICKET"
          }
        },
        "46d5068147b64c9b82413ae0f2faae72": {
          "model_module": "@jupyter-widgets/base",
          "model_name": "LayoutModel",
          "model_module_version": "1.2.0",
          "state": {
            "_model_module": "@jupyter-widgets/base",
            "_model_module_version": "1.2.0",
            "_model_name": "LayoutModel",
            "_view_count": null,
            "_view_module": "@jupyter-widgets/base",
            "_view_module_version": "1.2.0",
            "_view_name": "LayoutView",
            "align_content": null,
            "align_items": null,
            "align_self": null,
            "border": null,
            "bottom": null,
            "display": null,
            "flex": null,
            "flex_flow": null,
            "grid_area": null,
            "grid_auto_columns": null,
            "grid_auto_flow": null,
            "grid_auto_rows": null,
            "grid_column": null,
            "grid_gap": null,
            "grid_row": null,
            "grid_template_areas": null,
            "grid_template_columns": null,
            "grid_template_rows": null,
            "height": "100px",
            "justify_content": null,
            "justify_items": null,
            "left": null,
            "margin": null,
            "max_height": null,
            "max_width": null,
            "min_height": null,
            "min_width": null,
            "object_fit": null,
            "object_position": null,
            "order": null,
            "overflow": null,
            "overflow_x": null,
            "overflow_y": null,
            "padding": null,
            "right": null,
            "top": null,
            "visibility": null,
            "width": "100%"
          }
        },
        "1a49a597cb214f4594bde0230add8172": {
          "model_module": "@jupyter-widgets/controls",
          "model_name": "DescriptionStyleModel",
          "model_module_version": "1.5.0",
          "state": {
            "_model_module": "@jupyter-widgets/controls",
            "_model_module_version": "1.5.0",
            "_model_name": "DescriptionStyleModel",
            "_view_count": null,
            "_view_module": "@jupyter-widgets/base",
            "_view_module_version": "1.2.0",
            "_view_name": "StyleView",
            "description_width": ""
          }
        },
        "ff1fb93d38724531b1d7462f9d585581": {
          "model_module": "@jupyter-widgets/controls",
          "model_name": "DropdownModel",
          "model_module_version": "1.5.0",
          "state": {
            "_dom_classes": [],
            "_model_module": "@jupyter-widgets/controls",
            "_model_module_version": "1.5.0",
            "_model_name": "DropdownModel",
            "_options_labels": [
              "English",
              "French",
              "Spanish",
              "German",
              "Hindi",
              "Chinese",
              "Japanese",
              "Russian"
            ],
            "_view_count": null,
            "_view_module": "@jupyter-widgets/controls",
            "_view_module_version": "1.5.0",
            "_view_name": "DropdownView",
            "description": "Language:",
            "description_tooltip": null,
            "disabled": false,
            "index": 0,
            "layout": "IPY_MODEL_5c36603eefbc4675bcbb115d569e7784",
            "style": "IPY_MODEL_84b2884c8ece4c2880f55822565e37a9"
          }
        },
        "5c36603eefbc4675bcbb115d569e7784": {
          "model_module": "@jupyter-widgets/base",
          "model_name": "LayoutModel",
          "model_module_version": "1.2.0",
          "state": {
            "_model_module": "@jupyter-widgets/base",
            "_model_module_version": "1.2.0",
            "_model_name": "LayoutModel",
            "_view_count": null,
            "_view_module": "@jupyter-widgets/base",
            "_view_module_version": "1.2.0",
            "_view_name": "LayoutView",
            "align_content": null,
            "align_items": null,
            "align_self": null,
            "border": null,
            "bottom": null,
            "display": null,
            "flex": null,
            "flex_flow": null,
            "grid_area": null,
            "grid_auto_columns": null,
            "grid_auto_flow": null,
            "grid_auto_rows": null,
            "grid_column": null,
            "grid_gap": null,
            "grid_row": null,
            "grid_template_areas": null,
            "grid_template_columns": null,
            "grid_template_rows": null,
            "height": null,
            "justify_content": null,
            "justify_items": null,
            "left": null,
            "margin": null,
            "max_height": null,
            "max_width": null,
            "min_height": null,
            "min_width": null,
            "object_fit": null,
            "object_position": null,
            "order": null,
            "overflow": null,
            "overflow_x": null,
            "overflow_y": null,
            "padding": null,
            "right": null,
            "top": null,
            "visibility": null,
            "width": null
          }
        },
        "84b2884c8ece4c2880f55822565e37a9": {
          "model_module": "@jupyter-widgets/controls",
          "model_name": "DescriptionStyleModel",
          "model_module_version": "1.5.0",
          "state": {
            "_model_module": "@jupyter-widgets/controls",
            "_model_module_version": "1.5.0",
            "_model_name": "DescriptionStyleModel",
            "_view_count": null,
            "_view_module": "@jupyter-widgets/base",
            "_view_module_version": "1.2.0",
            "_view_name": "StyleView",
            "description_width": ""
          }
        },
        "48d7005bc03641ac9115162a8879af12": {
          "model_module": "@jupyter-widgets/controls",
          "model_name": "CheckboxModel",
          "model_module_version": "1.5.0",
          "state": {
            "_dom_classes": [],
            "_model_module": "@jupyter-widgets/controls",
            "_model_module_version": "1.5.0",
            "_model_name": "CheckboxModel",
            "_view_count": null,
            "_view_module": "@jupyter-widgets/controls",
            "_view_module_version": "1.5.0",
            "_view_name": "CheckboxView",
            "description": "slowMode",
            "description_tooltip": null,
            "disabled": false,
            "indent": true,
            "layout": "IPY_MODEL_795c410b263e4983ab602f987adcd269",
            "style": "IPY_MODEL_509bb657e428444ba6587ef71b0076ab",
            "value": false
          }
        },
        "795c410b263e4983ab602f987adcd269": {
          "model_module": "@jupyter-widgets/base",
          "model_name": "LayoutModel",
          "model_module_version": "1.2.0",
          "state": {
            "_model_module": "@jupyter-widgets/base",
            "_model_module_version": "1.2.0",
            "_model_name": "LayoutModel",
            "_view_count": null,
            "_view_module": "@jupyter-widgets/base",
            "_view_module_version": "1.2.0",
            "_view_name": "LayoutView",
            "align_content": null,
            "align_items": null,
            "align_self": null,
            "border": null,
            "bottom": null,
            "display": null,
            "flex": null,
            "flex_flow": null,
            "grid_area": null,
            "grid_auto_columns": null,
            "grid_auto_flow": null,
            "grid_auto_rows": null,
            "grid_column": null,
            "grid_gap": null,
            "grid_row": null,
            "grid_template_areas": null,
            "grid_template_columns": null,
            "grid_template_rows": null,
            "height": null,
            "justify_content": null,
            "justify_items": null,
            "left": null,
            "margin": null,
            "max_height": null,
            "max_width": null,
            "min_height": null,
            "min_width": null,
            "object_fit": null,
            "object_position": null,
            "order": null,
            "overflow": null,
            "overflow_x": null,
            "overflow_y": null,
            "padding": null,
            "right": null,
            "top": null,
            "visibility": null,
            "width": null
          }
        },
        "509bb657e428444ba6587ef71b0076ab": {
          "model_module": "@jupyter-widgets/controls",
          "model_name": "DescriptionStyleModel",
          "model_module_version": "1.5.0",
          "state": {
            "_model_module": "@jupyter-widgets/controls",
            "_model_module_version": "1.5.0",
            "_model_name": "DescriptionStyleModel",
            "_view_count": null,
            "_view_module": "@jupyter-widgets/base",
            "_view_module_version": "1.2.0",
            "_view_name": "StyleView",
            "description_width": ""
          }
        },
        "2bd74975a5194e20ac14d104ea709561": {
          "model_module": "@jupyter-widgets/controls",
          "model_name": "ButtonModel",
          "model_module_version": "1.5.0",
          "state": {
            "_dom_classes": [],
            "_model_module": "@jupyter-widgets/controls",
            "_model_module_version": "1.5.0",
            "_model_name": "ButtonModel",
            "_view_count": null,
            "_view_module": "@jupyter-widgets/controls",
            "_view_module_version": "1.5.0",
            "_view_name": "ButtonView",
            "button_style": "success",
            "description": "Convert to Speech",
            "disabled": false,
            "icon": "",
            "layout": "IPY_MODEL_2f326530839342378ad882c3e899dcce",
            "style": "IPY_MODEL_148e227565824990aca45533cdffcefb",
            "tooltip": ""
          }
        },
        "2f326530839342378ad882c3e899dcce": {
          "model_module": "@jupyter-widgets/base",
          "model_name": "LayoutModel",
          "model_module_version": "1.2.0",
          "state": {
            "_model_module": "@jupyter-widgets/base",
            "_model_module_version": "1.2.0",
            "_model_name": "LayoutModel",
            "_view_count": null,
            "_view_module": "@jupyter-widgets/base",
            "_view_module_version": "1.2.0",
            "_view_name": "LayoutView",
            "align_content": null,
            "align_items": null,
            "align_self": null,
            "border": null,
            "bottom": null,
            "display": null,
            "flex": null,
            "flex_flow": null,
            "grid_area": null,
            "grid_auto_columns": null,
            "grid_auto_flow": null,
            "grid_auto_rows": null,
            "grid_column": null,
            "grid_gap": null,
            "grid_row": null,
            "grid_template_areas": null,
            "grid_template_columns": null,
            "grid_template_rows": null,
            "height": null,
            "justify_content": null,
            "justify_items": null,
            "left": null,
            "margin": null,
            "max_height": null,
            "max_width": null,
            "min_height": null,
            "min_width": null,
            "object_fit": null,
            "object_position": null,
            "order": null,
            "overflow": null,
            "overflow_x": null,
            "overflow_y": null,
            "padding": null,
            "right": null,
            "top": null,
            "visibility": null,
            "width": null
          }
        },
        "148e227565824990aca45533cdffcefb": {
          "model_module": "@jupyter-widgets/controls",
          "model_name": "ButtonStyleModel",
          "model_module_version": "1.5.0",
          "state": {
            "_model_module": "@jupyter-widgets/controls",
            "_model_module_version": "1.5.0",
            "_model_name": "ButtonStyleModel",
            "_view_count": null,
            "_view_module": "@jupyter-widgets/base",
            "_view_module_version": "1.2.0",
            "_view_name": "StyleView",
            "button_color": null,
            "font_weight": ""
          }
        }
      }
    }
  },
  "cells": [
    {
      "cell_type": "markdown",
      "metadata": {
        "id": "view-in-github",
        "colab_type": "text"
      },
      "source": [
        "<a href=\"https://colab.research.google.com/github/sujithra1256/sujithrasuji/blob/main/TTS.ipynb\" target=\"_parent\"><img src=\"https://colab.research.google.com/assets/colab-badge.svg\" alt=\"Open In Colab\"/></a>"
      ]
    },
    {
      "cell_type": "code",
      "execution_count": 9,
      "metadata": {
        "colab": {
          "base_uri": "https://localhost:8080/"
        },
        "id": "zl9Pv1pZ5J6_",
        "outputId": "c042a7ea-151f-4f1c-df24-6b332b732d1c"
      },
      "outputs": [
        {
          "output_type": "stream",
          "name": "stdout",
          "text": [
            "Requirement already satisfied: gTTS in /usr/local/lib/python3.11/dist-packages (2.5.4)\n",
            "Requirement already satisfied: requests<3,>=2.27 in /usr/local/lib/python3.11/dist-packages (from gTTS) (2.32.3)\n",
            "Requirement already satisfied: click<8.2,>=7.1 in /usr/local/lib/python3.11/dist-packages (from gTTS) (8.1.8)\n",
            "Requirement already satisfied: charset-normalizer<4,>=2 in /usr/local/lib/python3.11/dist-packages (from requests<3,>=2.27->gTTS) (3.4.2)\n",
            "Requirement already satisfied: idna<4,>=2.5 in /usr/local/lib/python3.11/dist-packages (from requests<3,>=2.27->gTTS) (3.10)\n",
            "Requirement already satisfied: urllib3<3,>=1.21.1 in /usr/local/lib/python3.11/dist-packages (from requests<3,>=2.27->gTTS) (2.4.0)\n",
            "Requirement already satisfied: certifi>=2017.4.17 in /usr/local/lib/python3.11/dist-packages (from requests<3,>=2.27->gTTS) (2025.4.26)\n"
          ]
        }
      ],
      "source": [
        "!pip install gTTS"
      ]
    },
    {
      "cell_type": "code",
      "source": [
        "import nltk\n",
        "nltk.download(\"all\")"
      ],
      "metadata": {
        "colab": {
          "base_uri": "https://localhost:8080/"
        },
        "id": "TORuVFB75iRh",
        "outputId": "e9332b27-3ac7-4d81-d2e3-f529456854d4"
      },
      "execution_count": 2,
      "outputs": [
        {
          "output_type": "stream",
          "name": "stderr",
          "text": [
            "[nltk_data] Downloading collection 'all'\n",
            "[nltk_data]    | \n",
            "[nltk_data]    | Downloading package abc to /root/nltk_data...\n",
            "[nltk_data]    |   Unzipping corpora/abc.zip.\n",
            "[nltk_data]    | Downloading package alpino to /root/nltk_data...\n",
            "[nltk_data]    |   Unzipping corpora/alpino.zip.\n",
            "[nltk_data]    | Downloading package averaged_perceptron_tagger to\n",
            "[nltk_data]    |     /root/nltk_data...\n",
            "[nltk_data]    |   Unzipping taggers/averaged_perceptron_tagger.zip.\n",
            "[nltk_data]    | Downloading package averaged_perceptron_tagger_eng to\n",
            "[nltk_data]    |     /root/nltk_data...\n",
            "[nltk_data]    |   Unzipping\n",
            "[nltk_data]    |       taggers/averaged_perceptron_tagger_eng.zip.\n",
            "[nltk_data]    | Downloading package averaged_perceptron_tagger_ru to\n",
            "[nltk_data]    |     /root/nltk_data...\n",
            "[nltk_data]    |   Unzipping\n",
            "[nltk_data]    |       taggers/averaged_perceptron_tagger_ru.zip.\n",
            "[nltk_data]    | Downloading package averaged_perceptron_tagger_rus to\n",
            "[nltk_data]    |     /root/nltk_data...\n",
            "[nltk_data]    |   Unzipping\n",
            "[nltk_data]    |       taggers/averaged_perceptron_tagger_rus.zip.\n",
            "[nltk_data]    | Downloading package basque_grammars to\n",
            "[nltk_data]    |     /root/nltk_data...\n",
            "[nltk_data]    |   Unzipping grammars/basque_grammars.zip.\n",
            "[nltk_data]    | Downloading package bcp47 to /root/nltk_data...\n",
            "[nltk_data]    | Downloading package biocreative_ppi to\n",
            "[nltk_data]    |     /root/nltk_data...\n",
            "[nltk_data]    |   Unzipping corpora/biocreative_ppi.zip.\n",
            "[nltk_data]    | Downloading package bllip_wsj_no_aux to\n",
            "[nltk_data]    |     /root/nltk_data...\n",
            "[nltk_data]    |   Unzipping models/bllip_wsj_no_aux.zip.\n",
            "[nltk_data]    | Downloading package book_grammars to\n",
            "[nltk_data]    |     /root/nltk_data...\n",
            "[nltk_data]    |   Unzipping grammars/book_grammars.zip.\n",
            "[nltk_data]    | Downloading package brown to /root/nltk_data...\n",
            "[nltk_data]    |   Unzipping corpora/brown.zip.\n",
            "[nltk_data]    | Downloading package brown_tei to /root/nltk_data...\n",
            "[nltk_data]    |   Unzipping corpora/brown_tei.zip.\n",
            "[nltk_data]    | Downloading package cess_cat to /root/nltk_data...\n",
            "[nltk_data]    |   Unzipping corpora/cess_cat.zip.\n",
            "[nltk_data]    | Downloading package cess_esp to /root/nltk_data...\n",
            "[nltk_data]    |   Unzipping corpora/cess_esp.zip.\n",
            "[nltk_data]    | Downloading package chat80 to /root/nltk_data...\n",
            "[nltk_data]    |   Unzipping corpora/chat80.zip.\n",
            "[nltk_data]    | Downloading package city_database to\n",
            "[nltk_data]    |     /root/nltk_data...\n",
            "[nltk_data]    |   Unzipping corpora/city_database.zip.\n",
            "[nltk_data]    | Downloading package cmudict to /root/nltk_data...\n",
            "[nltk_data]    |   Unzipping corpora/cmudict.zip.\n",
            "[nltk_data]    | Downloading package comparative_sentences to\n",
            "[nltk_data]    |     /root/nltk_data...\n",
            "[nltk_data]    |   Unzipping corpora/comparative_sentences.zip.\n",
            "[nltk_data]    | Downloading package comtrans to /root/nltk_data...\n",
            "[nltk_data]    | Downloading package conll2000 to /root/nltk_data...\n",
            "[nltk_data]    |   Unzipping corpora/conll2000.zip.\n",
            "[nltk_data]    | Downloading package conll2002 to /root/nltk_data...\n",
            "[nltk_data]    |   Unzipping corpora/conll2002.zip.\n",
            "[nltk_data]    | Downloading package conll2007 to /root/nltk_data...\n",
            "[nltk_data]    | Downloading package crubadan to /root/nltk_data...\n",
            "[nltk_data]    |   Unzipping corpora/crubadan.zip.\n",
            "[nltk_data]    | Downloading package dependency_treebank to\n",
            "[nltk_data]    |     /root/nltk_data...\n",
            "[nltk_data]    |   Unzipping corpora/dependency_treebank.zip.\n",
            "[nltk_data]    | Downloading package dolch to /root/nltk_data...\n",
            "[nltk_data]    |   Unzipping corpora/dolch.zip.\n",
            "[nltk_data]    | Downloading package english_wordnet to\n",
            "[nltk_data]    |     /root/nltk_data...\n",
            "[nltk_data]    |   Unzipping corpora/english_wordnet.zip.\n",
            "[nltk_data]    | Downloading package europarl_raw to\n",
            "[nltk_data]    |     /root/nltk_data...\n",
            "[nltk_data]    |   Unzipping corpora/europarl_raw.zip.\n",
            "[nltk_data]    | Downloading package extended_omw to\n",
            "[nltk_data]    |     /root/nltk_data...\n",
            "[nltk_data]    | Downloading package floresta to /root/nltk_data...\n",
            "[nltk_data]    |   Unzipping corpora/floresta.zip.\n",
            "[nltk_data]    | Downloading package framenet_v15 to\n",
            "[nltk_data]    |     /root/nltk_data...\n",
            "[nltk_data]    |   Unzipping corpora/framenet_v15.zip.\n",
            "[nltk_data]    | Downloading package framenet_v17 to\n",
            "[nltk_data]    |     /root/nltk_data...\n",
            "[nltk_data]    |   Unzipping corpora/framenet_v17.zip.\n",
            "[nltk_data]    | Downloading package gazetteers to /root/nltk_data...\n",
            "[nltk_data]    |   Unzipping corpora/gazetteers.zip.\n",
            "[nltk_data]    | Downloading package genesis to /root/nltk_data...\n",
            "[nltk_data]    |   Unzipping corpora/genesis.zip.\n",
            "[nltk_data]    | Downloading package gutenberg to /root/nltk_data...\n",
            "[nltk_data]    |   Unzipping corpora/gutenberg.zip.\n",
            "[nltk_data]    | Downloading package ieer to /root/nltk_data...\n",
            "[nltk_data]    |   Unzipping corpora/ieer.zip.\n",
            "[nltk_data]    | Downloading package inaugural to /root/nltk_data...\n",
            "[nltk_data]    |   Unzipping corpora/inaugural.zip.\n",
            "[nltk_data]    | Downloading package indian to /root/nltk_data...\n",
            "[nltk_data]    |   Unzipping corpora/indian.zip.\n",
            "[nltk_data]    | Downloading package jeita to /root/nltk_data...\n",
            "[nltk_data]    | Downloading package kimmo to /root/nltk_data...\n",
            "[nltk_data]    |   Unzipping corpora/kimmo.zip.\n",
            "[nltk_data]    | Downloading package knbc to /root/nltk_data...\n",
            "[nltk_data]    | Downloading package large_grammars to\n",
            "[nltk_data]    |     /root/nltk_data...\n",
            "[nltk_data]    |   Unzipping grammars/large_grammars.zip.\n",
            "[nltk_data]    | Downloading package lin_thesaurus to\n",
            "[nltk_data]    |     /root/nltk_data...\n",
            "[nltk_data]    |   Unzipping corpora/lin_thesaurus.zip.\n",
            "[nltk_data]    | Downloading package mac_morpho to /root/nltk_data...\n",
            "[nltk_data]    |   Unzipping corpora/mac_morpho.zip.\n",
            "[nltk_data]    | Downloading package machado to /root/nltk_data...\n",
            "[nltk_data]    | Downloading package masc_tagged to /root/nltk_data...\n",
            "[nltk_data]    | Downloading package maxent_ne_chunker to\n",
            "[nltk_data]    |     /root/nltk_data...\n",
            "[nltk_data]    |   Unzipping chunkers/maxent_ne_chunker.zip.\n",
            "[nltk_data]    | Downloading package maxent_ne_chunker_tab to\n",
            "[nltk_data]    |     /root/nltk_data...\n",
            "[nltk_data]    |   Unzipping chunkers/maxent_ne_chunker_tab.zip.\n",
            "[nltk_data]    | Downloading package maxent_treebank_pos_tagger to\n",
            "[nltk_data]    |     /root/nltk_data...\n",
            "[nltk_data]    |   Unzipping taggers/maxent_treebank_pos_tagger.zip.\n",
            "[nltk_data]    | Downloading package maxent_treebank_pos_tagger_tab to\n",
            "[nltk_data]    |     /root/nltk_data...\n",
            "[nltk_data]    |   Unzipping\n",
            "[nltk_data]    |       taggers/maxent_treebank_pos_tagger_tab.zip.\n",
            "[nltk_data]    | Downloading package moses_sample to\n",
            "[nltk_data]    |     /root/nltk_data...\n",
            "[nltk_data]    |   Unzipping models/moses_sample.zip.\n",
            "[nltk_data]    | Downloading package movie_reviews to\n",
            "[nltk_data]    |     /root/nltk_data...\n",
            "[nltk_data]    |   Unzipping corpora/movie_reviews.zip.\n",
            "[nltk_data]    | Downloading package mte_teip5 to /root/nltk_data...\n",
            "[nltk_data]    |   Unzipping corpora/mte_teip5.zip.\n",
            "[nltk_data]    | Downloading package mwa_ppdb to /root/nltk_data...\n",
            "[nltk_data]    |   Unzipping misc/mwa_ppdb.zip.\n",
            "[nltk_data]    | Downloading package names to /root/nltk_data...\n",
            "[nltk_data]    |   Unzipping corpora/names.zip.\n",
            "[nltk_data]    | Downloading package nombank.1.0 to /root/nltk_data...\n",
            "[nltk_data]    | Downloading package nonbreaking_prefixes to\n",
            "[nltk_data]    |     /root/nltk_data...\n",
            "[nltk_data]    |   Unzipping corpora/nonbreaking_prefixes.zip.\n",
            "[nltk_data]    | Downloading package nps_chat to /root/nltk_data...\n",
            "[nltk_data]    |   Unzipping corpora/nps_chat.zip.\n",
            "[nltk_data]    | Downloading package omw to /root/nltk_data...\n",
            "[nltk_data]    | Downloading package omw-1.4 to /root/nltk_data...\n",
            "[nltk_data]    | Downloading package opinion_lexicon to\n",
            "[nltk_data]    |     /root/nltk_data...\n",
            "[nltk_data]    |   Unzipping corpora/opinion_lexicon.zip.\n",
            "[nltk_data]    | Downloading package panlex_swadesh to\n",
            "[nltk_data]    |     /root/nltk_data...\n",
            "[nltk_data]    | Downloading package paradigms to /root/nltk_data...\n",
            "[nltk_data]    |   Unzipping corpora/paradigms.zip.\n",
            "[nltk_data]    | Downloading package pe08 to /root/nltk_data...\n",
            "[nltk_data]    |   Unzipping corpora/pe08.zip.\n",
            "[nltk_data]    | Downloading package perluniprops to\n",
            "[nltk_data]    |     /root/nltk_data...\n",
            "[nltk_data]    |   Unzipping misc/perluniprops.zip.\n",
            "[nltk_data]    | Downloading package pil to /root/nltk_data...\n",
            "[nltk_data]    |   Unzipping corpora/pil.zip.\n",
            "[nltk_data]    | Downloading package pl196x to /root/nltk_data...\n",
            "[nltk_data]    |   Unzipping corpora/pl196x.zip.\n",
            "[nltk_data]    | Downloading package porter_test to /root/nltk_data...\n",
            "[nltk_data]    |   Unzipping stemmers/porter_test.zip.\n",
            "[nltk_data]    | Downloading package ppattach to /root/nltk_data...\n",
            "[nltk_data]    |   Unzipping corpora/ppattach.zip.\n",
            "[nltk_data]    | Downloading package problem_reports to\n",
            "[nltk_data]    |     /root/nltk_data...\n",
            "[nltk_data]    |   Unzipping corpora/problem_reports.zip.\n",
            "[nltk_data]    | Downloading package product_reviews_1 to\n",
            "[nltk_data]    |     /root/nltk_data...\n",
            "[nltk_data]    |   Unzipping corpora/product_reviews_1.zip.\n",
            "[nltk_data]    | Downloading package product_reviews_2 to\n",
            "[nltk_data]    |     /root/nltk_data...\n",
            "[nltk_data]    |   Unzipping corpora/product_reviews_2.zip.\n",
            "[nltk_data]    | Downloading package propbank to /root/nltk_data...\n",
            "[nltk_data]    | Downloading package pros_cons to /root/nltk_data...\n",
            "[nltk_data]    |   Unzipping corpora/pros_cons.zip.\n",
            "[nltk_data]    | Downloading package ptb to /root/nltk_data...\n",
            "[nltk_data]    |   Unzipping corpora/ptb.zip.\n",
            "[nltk_data]    | Downloading package punkt to /root/nltk_data...\n",
            "[nltk_data]    |   Unzipping tokenizers/punkt.zip.\n",
            "[nltk_data]    | Downloading package punkt_tab to /root/nltk_data...\n",
            "[nltk_data]    |   Unzipping tokenizers/punkt_tab.zip.\n",
            "[nltk_data]    | Downloading package qc to /root/nltk_data...\n",
            "[nltk_data]    |   Unzipping corpora/qc.zip.\n",
            "[nltk_data]    | Downloading package reuters to /root/nltk_data...\n",
            "[nltk_data]    | Downloading package rslp to /root/nltk_data...\n",
            "[nltk_data]    |   Unzipping stemmers/rslp.zip.\n",
            "[nltk_data]    | Downloading package rte to /root/nltk_data...\n",
            "[nltk_data]    |   Unzipping corpora/rte.zip.\n",
            "[nltk_data]    | Downloading package sample_grammars to\n",
            "[nltk_data]    |     /root/nltk_data...\n",
            "[nltk_data]    |   Unzipping grammars/sample_grammars.zip.\n",
            "[nltk_data]    | Downloading package semcor to /root/nltk_data...\n",
            "[nltk_data]    | Downloading package senseval to /root/nltk_data...\n",
            "[nltk_data]    |   Unzipping corpora/senseval.zip.\n",
            "[nltk_data]    | Downloading package sentence_polarity to\n",
            "[nltk_data]    |     /root/nltk_data...\n",
            "[nltk_data]    |   Unzipping corpora/sentence_polarity.zip.\n",
            "[nltk_data]    | Downloading package sentiwordnet to\n",
            "[nltk_data]    |     /root/nltk_data...\n",
            "[nltk_data]    |   Unzipping corpora/sentiwordnet.zip.\n",
            "[nltk_data]    | Downloading package shakespeare to /root/nltk_data...\n",
            "[nltk_data]    |   Unzipping corpora/shakespeare.zip.\n",
            "[nltk_data]    | Downloading package sinica_treebank to\n",
            "[nltk_data]    |     /root/nltk_data...\n",
            "[nltk_data]    |   Unzipping corpora/sinica_treebank.zip.\n",
            "[nltk_data]    | Downloading package smultron to /root/nltk_data...\n",
            "[nltk_data]    |   Unzipping corpora/smultron.zip.\n",
            "[nltk_data]    | Downloading package snowball_data to\n",
            "[nltk_data]    |     /root/nltk_data...\n",
            "[nltk_data]    | Downloading package spanish_grammars to\n",
            "[nltk_data]    |     /root/nltk_data...\n",
            "[nltk_data]    |   Unzipping grammars/spanish_grammars.zip.\n",
            "[nltk_data]    | Downloading package state_union to /root/nltk_data...\n",
            "[nltk_data]    |   Unzipping corpora/state_union.zip.\n",
            "[nltk_data]    | Downloading package stopwords to /root/nltk_data...\n",
            "[nltk_data]    |   Unzipping corpora/stopwords.zip.\n",
            "[nltk_data]    | Downloading package subjectivity to\n",
            "[nltk_data]    |     /root/nltk_data...\n",
            "[nltk_data]    |   Unzipping corpora/subjectivity.zip.\n",
            "[nltk_data]    | Downloading package swadesh to /root/nltk_data...\n",
            "[nltk_data]    |   Unzipping corpora/swadesh.zip.\n",
            "[nltk_data]    | Downloading package switchboard to /root/nltk_data...\n",
            "[nltk_data]    |   Unzipping corpora/switchboard.zip.\n",
            "[nltk_data]    | Downloading package tagsets to /root/nltk_data...\n",
            "[nltk_data]    |   Unzipping help/tagsets.zip.\n",
            "[nltk_data]    | Downloading package tagsets_json to\n",
            "[nltk_data]    |     /root/nltk_data...\n",
            "[nltk_data]    |   Unzipping help/tagsets_json.zip.\n",
            "[nltk_data]    | Downloading package timit to /root/nltk_data...\n",
            "[nltk_data]    |   Unzipping corpora/timit.zip.\n",
            "[nltk_data]    | Downloading package toolbox to /root/nltk_data...\n",
            "[nltk_data]    |   Unzipping corpora/toolbox.zip.\n",
            "[nltk_data]    | Downloading package treebank to /root/nltk_data...\n",
            "[nltk_data]    |   Unzipping corpora/treebank.zip.\n",
            "[nltk_data]    | Downloading package twitter_samples to\n",
            "[nltk_data]    |     /root/nltk_data...\n",
            "[nltk_data]    |   Unzipping corpora/twitter_samples.zip.\n",
            "[nltk_data]    | Downloading package udhr to /root/nltk_data...\n",
            "[nltk_data]    |   Unzipping corpora/udhr.zip.\n",
            "[nltk_data]    | Downloading package udhr2 to /root/nltk_data...\n",
            "[nltk_data]    |   Unzipping corpora/udhr2.zip.\n",
            "[nltk_data]    | Downloading package unicode_samples to\n",
            "[nltk_data]    |     /root/nltk_data...\n",
            "[nltk_data]    |   Unzipping corpora/unicode_samples.zip.\n",
            "[nltk_data]    | Downloading package universal_tagset to\n",
            "[nltk_data]    |     /root/nltk_data...\n",
            "[nltk_data]    |   Unzipping taggers/universal_tagset.zip.\n",
            "[nltk_data]    | Downloading package universal_treebanks_v20 to\n",
            "[nltk_data]    |     /root/nltk_data...\n",
            "[nltk_data]    | Downloading package vader_lexicon to\n",
            "[nltk_data]    |     /root/nltk_data...\n",
            "[nltk_data]    | Downloading package verbnet to /root/nltk_data...\n",
            "[nltk_data]    |   Unzipping corpora/verbnet.zip.\n",
            "[nltk_data]    | Downloading package verbnet3 to /root/nltk_data...\n",
            "[nltk_data]    |   Unzipping corpora/verbnet3.zip.\n",
            "[nltk_data]    | Downloading package webtext to /root/nltk_data...\n",
            "[nltk_data]    |   Unzipping corpora/webtext.zip.\n",
            "[nltk_data]    | Downloading package wmt15_eval to /root/nltk_data...\n",
            "[nltk_data]    |   Unzipping models/wmt15_eval.zip.\n",
            "[nltk_data]    | Downloading package word2vec_sample to\n",
            "[nltk_data]    |     /root/nltk_data...\n",
            "[nltk_data]    |   Unzipping models/word2vec_sample.zip.\n",
            "[nltk_data]    | Downloading package wordnet to /root/nltk_data...\n",
            "[nltk_data]    | Downloading package wordnet2021 to /root/nltk_data...\n",
            "[nltk_data]    | Downloading package wordnet2022 to /root/nltk_data...\n",
            "[nltk_data]    |   Unzipping corpora/wordnet2022.zip.\n",
            "[nltk_data]    | Downloading package wordnet31 to /root/nltk_data...\n",
            "[nltk_data]    | Downloading package wordnet_ic to /root/nltk_data...\n",
            "[nltk_data]    |   Unzipping corpora/wordnet_ic.zip.\n",
            "[nltk_data]    | Downloading package words to /root/nltk_data...\n",
            "[nltk_data]    |   Unzipping corpora/words.zip.\n",
            "[nltk_data]    | Downloading package ycoe to /root/nltk_data...\n",
            "[nltk_data]    |   Unzipping corpora/ycoe.zip.\n",
            "[nltk_data]    | \n",
            "[nltk_data]  Done downloading collection all\n"
          ]
        },
        {
          "output_type": "execute_result",
          "data": {
            "text/plain": [
              "True"
            ]
          },
          "metadata": {},
          "execution_count": 2
        }
      ]
    },
    {
      "cell_type": "code",
      "source": [
        "from gtts import gTTS\n",
        "import os\n",
        "import ipywidgets as widgets\n",
        "from IPython.display import display, HTML, Audio  # No trailing comma\n"
      ],
      "metadata": {
        "id": "1cPRVbNA9YIE"
      },
      "execution_count": 3,
      "outputs": []
    },
    {
      "cell_type": "code",
      "source": [
        "# Supported Languages\n",
        "LANGUAGES = {\n",
        "    \"English\": \"en\",\n",
        "    \"French\": \"fr\",\n",
        "    \"Spanish\": \"es\",\n",
        "    \"German\": \"de\",\n",
        "    \"Hindi\": \"hi\",\n",
        "    \"Chinese\": \"zh-cn\",\n",
        "    \"Japanese\": \"ja\",\n",
        "    \"Russian\":\"ru\"\n",
        "}"
      ],
      "metadata": {
        "id": "TwHRvh-n9wvk"
      },
      "execution_count": 4,
      "outputs": []
    },
    {
      "cell_type": "code",
      "source": [
        "# Function to Convert Text to Speech\n",
        "def text_to_speech(text, lang=\"en\", slow=False):\n",
        "    try:\n",
        "        tts = gTTS(text=text, lang=lang, slow=slow)\n",
        "        tts.save(\"output.mp3\")\n",
        "        return Audio(\"output.mp3\", autoplay=True)\n",
        "    except Exception as e:\n",
        "        print(f\"Error: {e}\")"
      ],
      "metadata": {
        "id": "ziYsVKQM99Lo"
      },
      "execution_count": 5,
      "outputs": []
    },
    {
      "cell_type": "code",
      "source": [
        "# Function to Capture User Input and Settings\n",
        "def tts_interface():\n",
        "    print(\"Welcome to the Google Colab Text-to-Speech System!\")\n",
        "\n",
        "# Text Input Box (Moved outside the function)\n",
        "text_input = widgets.Textarea(\n",
        "    placeholder=\"Enter the text you want to convert to speech...\",\n",
        "    layout=widgets.Layout(width=\"100%\", height=\"100px\")\n",
        ")\n",
        "\n",
        "# Language Dropdown (Moved outside the function)\n",
        "lang_dropdown = widgets.Dropdown(\n",
        "    options=list(LANGUAGES.keys()),\n",
        "    value=\"English\",\n",
        "    description=\"Language:\",\n",
        ")"
      ],
      "metadata": {
        "id": "2WMXeGw4-SSn"
      },
      "execution_count": 6,
      "outputs": []
    },
    {
      "cell_type": "code",
      "source": [
        "#speedToggle\n",
        "speed_toggle=widgets.Checkbox(value=False,\n",
        "description=\"slowMode\")\n",
        "# Button to Generate Speech\n",
        "generate_button = widgets.Button(\n",
        "    description=\"Convert to Speech\",\n",
        "    button_style=\"success\"\n",
        ")\n"
      ],
      "metadata": {
        "id": "49E4X0SY-Zd6"
      },
      "execution_count": 7,
      "outputs": []
    },
    {
      "cell_type": "code",
      "source": [
        "# Display Widgets\n",
        "display(text_input, lang_dropdown, speed_toggle, generate_button)\n",
        "\n",
        "# Button Click Event\n",
        "def on_button_click(b):\n",
        "    text = text_input.value.strip()\n",
        "    language = LANGUAGES[lang_dropdown.value]\n",
        "    slow_mode = speed_toggle.value\n",
        "\n",
        "    if text:\n",
        "        print(\"\\nPlaying Speech...\")\n",
        "        display(text_to_speech(text, lang=language, slow=slow_mode))\n",
        "    else:\n",
        "        print(\"Please enter text to convert!\")\n",
        "\n",
        "generate_button.on_click(on_button_click)\n",
        "\n",
        "# Run the Interface\n",
        "# The tts_interface function now only contains the print statement,\n",
        "# as the widget definitions are in the global scope.\n",
        "tts_interface()"
      ],
      "metadata": {
        "colab": {
          "base_uri": "https://localhost:8080/",
          "height": 345,
          "referenced_widgets": [
            "ede2e922766e49ffbd4843267be695d5",
            "46d5068147b64c9b82413ae0f2faae72",
            "1a49a597cb214f4594bde0230add8172",
            "ff1fb93d38724531b1d7462f9d585581",
            "5c36603eefbc4675bcbb115d569e7784",
            "84b2884c8ece4c2880f55822565e37a9",
            "48d7005bc03641ac9115162a8879af12",
            "795c410b263e4983ab602f987adcd269",
            "509bb657e428444ba6587ef71b0076ab",
            "2bd74975a5194e20ac14d104ea709561",
            "2f326530839342378ad882c3e899dcce",
            "148e227565824990aca45533cdffcefb"
          ]
        },
        "id": "wMWKzkpp-e0P",
        "outputId": "1eb3b96e-abe1-4c6f-b2ba-77e771541d91"
      },
      "execution_count": 8,
      "outputs": [
        {
          "output_type": "display_data",
          "data": {
            "text/plain": [
              "Textarea(value='', layout=Layout(height='100px', width='100%'), placeholder='Enter the text you want to conver…"
            ],
            "application/vnd.jupyter.widget-view+json": {
              "version_major": 2,
              "version_minor": 0,
              "model_id": "ede2e922766e49ffbd4843267be695d5"
            }
          },
          "metadata": {}
        },
        {
          "output_type": "display_data",
          "data": {
            "text/plain": [
              "Dropdown(description='Language:', options=('English', 'French', 'Spanish', 'German', 'Hindi', 'Chinese', 'Japa…"
            ],
            "application/vnd.jupyter.widget-view+json": {
              "version_major": 2,
              "version_minor": 0,
              "model_id": "ff1fb93d38724531b1d7462f9d585581"
            }
          },
          "metadata": {}
        },
        {
          "output_type": "display_data",
          "data": {
            "text/plain": [
              "Checkbox(value=False, description='slowMode')"
            ],
            "application/vnd.jupyter.widget-view+json": {
              "version_major": 2,
              "version_minor": 0,
              "model_id": "48d7005bc03641ac9115162a8879af12"
            }
          },
          "metadata": {}
        },
        {
          "output_type": "display_data",
          "data": {
            "text/plain": [
              "Button(button_style='success', description='Convert to Speech', style=ButtonStyle())"
            ],
            "application/vnd.jupyter.widget-view+json": {
              "version_major": 2,
              "version_minor": 0,
              "model_id": "2bd74975a5194e20ac14d104ea709561"
            }
          },
          "metadata": {}
        },
        {
          "output_type": "stream",
          "name": "stdout",
          "text": [
            "Welcome to the Google Colab Text-to-Speech System!\n",
            "\n",
            "Playing Speech...\n"
          ]
        },
        {
          "output_type": "display_data",
          "data": {
            "text/plain": [
              "<IPython.lib.display.Audio object>"
            ],
            "text/html": [
              "\n",
              "                <audio  controls=\"controls\" autoplay=\"autoplay\">\n",
              "                    <source src=\"data:audio/mpeg;base64,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\" type=\"audio/mpeg\" />\n",
              "                    Your browser does not support the audio element.\n",
              "                </audio>\n",
              "              "
            ]
          },
          "metadata": {}
        }
      ]
    }
  ]
}